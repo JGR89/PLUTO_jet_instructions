{
 "cells": [
  {
   "cell_type": "markdown",
   "metadata": {
    "deletable": true,
    "editable": true
   },
   "source": [
    "# 1. PLUTO HD example in 2D, spherical coordinates"
   ]
  },
  {
   "cell_type": "raw",
   "metadata": {
    "deletable": true,
    "editable": true
   },
   "source": [
    "This document contains the python code for setting up a PLUTO simulation. It focuses on non-dimensionialising the parameters, as well as imaging the simulation."
   ]
  },
  {
   "cell_type": "code",
   "execution_count": 112,
   "metadata": {
    "collapsed": false,
    "deletable": true,
    "editable": true
   },
   "outputs": [
    {
     "name": "stderr",
     "output_type": "stream",
     "text": [
      "/usr/local/lib/python2.7/site-packages/matplotlib/font_manager.py:273: UserWarning: Matplotlib is building the font cache using fc-list. This may take a moment.\n",
      "  warnings.warn('Matplotlib is building the font cache using fc-list. This may take a moment.')\n"
     ]
    }
   ],
   "source": [
    "import numpy as np\n",
    "import astropy.units as u #To keep track of units\n",
    "import matplotlib.pyplot as plt #For plotting"
   ]
  },
  {
   "cell_type": "code",
   "execution_count": 62,
   "metadata": {
    "collapsed": false,
    "deletable": true,
    "editable": true
   },
   "outputs": [],
   "source": [
    "#Constants - maybe change these to be imported from astropy?\n",
    "k_b = 1.38*10**-23*(u.joule*u.K**-1)\n",
    "mu = 0.6\n",
    "mH = 1.67*10**-27*u.kg # mass of hydrogen atom\n",
    "gamma = 5.0/3.0"
   ]
  },
  {
   "cell_type": "code",
   "execution_count": 71,
   "metadata": {
    "collapsed": true
   },
   "outputs": [],
   "source": [
    "#We begin by defining some functions that will be useful down the track:\n",
    "\n",
    "def tempToSoundSpeed(mu,TempInEv,gamma):\n",
    "    \"Converts a temperature to a sound speed for a given mu, where mu is the average particle molecular mass?\"\n",
    "    soundspeed = np.sqrt((TempInEv*gamma)/(mu*mH)).to(u.m/u.second)\n",
    "    return soundspeed\n",
    "\n",
    "def jetSolidAngle(theta_jet):\n",
    "    \"Calculates the solid angle of a jet given a constant opening angle\"\n",
    "    Omega = 2.0*np.pi*(1-np.cos(np.deg2rad(theta_jet)))\n",
    "    return Omega\n",
    "\n",
    "def CalcL1(Q0, rho, vjet):\n",
    "    L1 = 2.0*np.sqrt(2.0)*np.sqrt(Q0/(rho*vjet**3)).to(u.parsec)\n",
    "    return L1\n",
    "\n",
    "def CalcL2(Q0,rho,cs):\n",
    "    L2 = np.sqrt(Q0/(rho*cs**3)).to(u.kiloparsec)\n",
    "    return L2\n",
    "\n",
    "def timeUnit(L1,cs):\n",
    "    tau = (L1.to(u.m)/cs.to(u.m/u.second)).to(u.year)\n",
    "    return tau\n",
    "\n",
    "def initDensity(n,mu):\n",
    "    \"Calculated initial density of a profile given a number density n, and a mean mass per particle $\\mu$\"\n",
    "    rho_0 = (n*mu*mH).to(u.kg/u.m**3)\n",
    "    return rho_0"
   ]
  },
  {
   "cell_type": "code",
   "execution_count": 143,
   "metadata": {
    "collapsed": false
   },
   "outputs": [
    {
     "name": "stdout",
     "output_type": "stream",
     "text": [
      "cs = 730.063606312 km / s\n"
     ]
    }
   ],
   "source": [
    "#Simulation variables\n",
    "\n",
    "#Here we define the values that will need to be coded into the init.c file.\n",
    "gamma = 5.0/3.0\n",
    "Mach = 25.0\n",
    "theta_jet = 15.0*u.deg\n",
    "Omega_jet = jetSolidAngle(theta_jet)\n",
    "clusterTemp = 2000*u.eV\n",
    "cs = tempToSoundSpeed(mu,clusterTemp,gamma)\n",
    "c = 3*(10**8)*(u.m/u.second)\n",
    "n = (3*10**4)*u.m**-3 #value from HK13, number density of particles per unit volume\n",
    "\n",
    "print 'cs = ' + str(cs.to(u.km/u.second))\n",
    "#Define set power\n",
    "Q_0 = (10**38)*u.Watt\n",
    "  \n",
    "#So our variables are\n",
    "v_jet = Mach*cs\n",
    "rho_0 = initDensity(n,mu)\n",
    "P = ((cs**2*rho_0)/gamma).to(u.pascal)\n"
   ]
  },
  {
   "cell_type": "markdown",
   "metadata": {},
   "source": [
    "We shall also specify the length normalisation unit to be L1 to scale the values appropriately. A function CalcL1 has already been defined, and takes inputs Q, $\\rho_0$ and v$_{jet}$. This will in turn allow for the calculate of the simulation time unit using the timeUnit function."
   ]
  },
  {
   "cell_type": "code",
   "execution_count": 128,
   "metadata": {
    "collapsed": false
   },
   "outputs": [
    {
     "name": "stdout",
     "output_type": "stream",
     "text": [
      "L1 = 2.14411906291 kpc\n",
      "tau = 2.87167162413 Myr\n",
      "L2 = 94.7575705659 kpc\n",
      "44.1941738242\n",
      "In the pluto.ini file, for spherical coordinates, X1 must extend to 150 simulation lengths to incorporate a jet age of tstop = 50\n"
     ]
    }
   ],
   "source": [
    "L1 = CalcL1(Q_0,rho_0,v_jet)\n",
    "print 'L1 = ' + str(L1.to(u.kpc)) #Convert to kpc to get a more appropriate value\n",
    "tau = timeUnit(L1,cs).to(u.Myr) #Convert to Myr to get a more appropriate value\n",
    "print 'tau = ' + str(tau)\n",
    "\n",
    "#And the jet is likely to propagate to a distance of L2\n",
    "L2 = CalcL2(Q_0,rho_0,cs)\n",
    "print 'L2 = ' + str(L2)\n",
    "print (L2/L1).si\n",
    "#Calculate extent of X1 coordinate in simulation units\n",
    "tstop = 50\n",
    "jetSizeSimUnits = 150 #dunno how martin got this\n",
    "print 'In the pluto.ini file, for spherical coordinates, X1 must extend to ' + str(jetSizeSimUnits) + ' simulation lengths to incorporate a jet age of tstop = ' + str(tstop)"
   ]
  },
  {
   "cell_type": "code",
   "execution_count": 130,
   "metadata": {
    "collapsed": false
   },
   "outputs": [
    {
     "data": {
      "image/png": "[encoded data removed]",
      "text/plain": [
       "<matplotlib.figure.Figure at 0x10b02fc50>"
      ]
     },
     "metadata": {},
     "output_type": "display_data"
    }
   ],
   "source": [
    "#Let us now assume that the density declines with radius as modelled by an isothermal King Profile\n",
    "#Using the same cluster core radius as Hardcastle & Krause 2013\n",
    "rc = 40\n",
    "beta = 0.35\n",
    "r = np.arange(0,151,0.2)\n",
    "rho = rho_0*(1 + (r/rc)**2)**((-3/2)*beta)\n",
    "rho_norm = (1 + (r/rc)**2)**((-3/2)*beta) #Letting rho_0 = 1 in simulation units\n",
    "\n",
    "plt.figure()\n",
    "plt.plot(r,rho_norm)\n",
    "plt.xlabel('r [simulation units]')\n",
    "plt.ylabel('normalised density')\n",
    "plt.show()"
   ]
  },
  {
   "cell_type": "markdown",
   "metadata": {},
   "source": [
    "The variables and values defined here will be used in the discussion in Section 2."
   ]
  },
  {
   "cell_type": "markdown",
   "metadata": {},
   "source": [
    "# 2. Imaging the simulation\n",
    "\n",
    "We begin by definion a function to import the data."
   ]
  },
  {
   "cell_type": "code",
   "execution_count": 138,
   "metadata": {
    "collapsed": false
   },
   "outputs": [
    {
     "ename": "IOError",
     "evalue": "[Errno 2] No such file or directory: '/Users/Jonathan/Desktop/Projects/PLUTO_process_writeup/SECTION2_NOTEBOOK/dbl.out'",
     "output_type": "error",
     "traceback": [
      "\u001b[0;31m---------------------------------------------------------------------------\u001b[0m",
      "\u001b[0;31mIOError\u001b[0m                                   Traceback (most recent call last)",
      "\u001b[0;32m<ipython-input-138-b248c17e7023>\u001b[0m in \u001b[0;36m<module>\u001b[0;34m()\u001b[0m\n\u001b[1;32m      7\u001b[0m \u001b[0mns\u001b[0m \u001b[0;34m=\u001b[0m \u001b[0;34m'rho'\u001b[0m\u001b[0;34m\u001b[0m\u001b[0m\n\u001b[1;32m      8\u001b[0m \u001b[0;34m\u001b[0m\u001b[0m\n\u001b[0;32m----> 9\u001b[0;31m \u001b[0mcurObject\u001b[0m \u001b[0;34m=\u001b[0m \u001b[0mpp\u001b[0m\u001b[0;34m.\u001b[0m\u001b[0mpload\u001b[0m\u001b[0;34m(\u001b[0m\u001b[0ml\u001b[0m\u001b[0;34m,\u001b[0m\u001b[0mw_dir\u001b[0m\u001b[0;34m=\u001b[0m\u001b[0mrun_dir\u001b[0m\u001b[0;34m)\u001b[0m\u001b[0;34m\u001b[0m\u001b[0m\n\u001b[0m\u001b[1;32m     10\u001b[0m \u001b[0mglobalVar\u001b[0m \u001b[0;34m=\u001b[0m \u001b[0mgetattr\u001b[0m\u001b[0;34m(\u001b[0m\u001b[0mcurObject\u001b[0m\u001b[0;34m,\u001b[0m\u001b[0mns\u001b[0m\u001b[0;34m)\u001b[0m\u001b[0;34m.\u001b[0m\u001b[0mT\u001b[0m\u001b[0;34m\u001b[0m\u001b[0m\n\u001b[1;32m     11\u001b[0m \u001b[0;34m\u001b[0m\u001b[0m\n",
      "\u001b[0;32m/Users/Jonathan/Documents/PLUTO/Tools/pyPLUTO/install_pypluto/lib/python2.7/site-packages/pyPLUTO/pyPLUTO.pyc\u001b[0m in \u001b[0;36m__init__\u001b[0;34m(self, ns, w_dir, datatype, level, x1range, x2range, x3range)\u001b[0m\n\u001b[1;32m    140\u001b[0m         \u001b[0mself\u001b[0m\u001b[0;34m.\u001b[0m\u001b[0mwdir\u001b[0m \u001b[0;34m=\u001b[0m \u001b[0mw_dir\u001b[0m\u001b[0;34m\u001b[0m\u001b[0m\n\u001b[1;32m    141\u001b[0m \u001b[0;34m\u001b[0m\u001b[0m\n\u001b[0;32m--> 142\u001b[0;31m         \u001b[0mData_dictionary\u001b[0m \u001b[0;34m=\u001b[0m \u001b[0mself\u001b[0m\u001b[0;34m.\u001b[0m\u001b[0mReadDataFile\u001b[0m\u001b[0;34m(\u001b[0m\u001b[0mself\u001b[0m\u001b[0;34m.\u001b[0m\u001b[0mNStepStr\u001b[0m\u001b[0;34m)\u001b[0m\u001b[0;34m\u001b[0m\u001b[0m\n\u001b[0m\u001b[1;32m    143\u001b[0m         \u001b[0;32mfor\u001b[0m \u001b[0mkeys\u001b[0m \u001b[0;32min\u001b[0m \u001b[0mData_dictionary\u001b[0m\u001b[0;34m:\u001b[0m\u001b[0;34m\u001b[0m\u001b[0m\n\u001b[1;32m    144\u001b[0m             \u001b[0mobject\u001b[0m\u001b[0;34m.\u001b[0m\u001b[0m__setattr__\u001b[0m\u001b[0;34m(\u001b[0m\u001b[0mself\u001b[0m\u001b[0;34m,\u001b[0m \u001b[0mkeys\u001b[0m\u001b[0;34m,\u001b[0m \u001b[0mData_dictionary\u001b[0m\u001b[0;34m.\u001b[0m\u001b[0mget\u001b[0m\u001b[0;34m(\u001b[0m\u001b[0mkeys\u001b[0m\u001b[0;34m)\u001b[0m\u001b[0;34m)\u001b[0m\u001b[0;34m\u001b[0m\u001b[0m\n",
      "\u001b[0;32m/Users/Jonathan/Documents/PLUTO/Tools/pyPLUTO/install_pypluto/lib/python2.7/site-packages/pyPLUTO/pyPLUTO.pyc\u001b[0m in \u001b[0;36mReadDataFile\u001b[0;34m(self, num)\u001b[0m\n\u001b[1;32m    706\u001b[0m             \u001b[0mdataext\u001b[0m \u001b[0;34m=\u001b[0m \u001b[0;34m\".dbl\"\u001b[0m\u001b[0;34m\u001b[0m\u001b[0m\n\u001b[1;32m    707\u001b[0m \u001b[0;34m\u001b[0m\u001b[0m\n\u001b[0;32m--> 708\u001b[0;31m         \u001b[0mself\u001b[0m\u001b[0;34m.\u001b[0m\u001b[0mReadVarFile\u001b[0m\u001b[0;34m(\u001b[0m\u001b[0mvarfile\u001b[0m\u001b[0;34m)\u001b[0m\u001b[0;34m\u001b[0m\u001b[0m\n\u001b[0m\u001b[1;32m    709\u001b[0m         \u001b[0mself\u001b[0m\u001b[0;34m.\u001b[0m\u001b[0mReadGridFile\u001b[0m\u001b[0;34m(\u001b[0m\u001b[0mgridfile\u001b[0m\u001b[0;34m)\u001b[0m\u001b[0;34m\u001b[0m\u001b[0m\n\u001b[1;32m    710\u001b[0m         \u001b[0mself\u001b[0m\u001b[0;34m.\u001b[0m\u001b[0mReadTimeInfo\u001b[0m\u001b[0;34m(\u001b[0m\u001b[0mvarfile\u001b[0m\u001b[0;34m)\u001b[0m\u001b[0;34m\u001b[0m\u001b[0m\n",
      "\u001b[0;32m/Users/Jonathan/Documents/PLUTO/Tools/pyPLUTO/install_pypluto/lib/python2.7/site-packages/pyPLUTO/pyPLUTO.pyc\u001b[0m in \u001b[0;36mReadVarFile\u001b[0;34m(self, varfile)\u001b[0m\n\u001b[1;32m    184\u001b[0m             \u001b[0mfh5\u001b[0m\u001b[0;34m.\u001b[0m\u001b[0mclose\u001b[0m\u001b[0;34m(\u001b[0m\u001b[0;34m)\u001b[0m\u001b[0;34m\u001b[0m\u001b[0m\n\u001b[1;32m    185\u001b[0m         \u001b[0;32melse\u001b[0m\u001b[0;34m:\u001b[0m\u001b[0;34m\u001b[0m\u001b[0m\n\u001b[0;32m--> 186\u001b[0;31m             \u001b[0mvfp\u001b[0m \u001b[0;34m=\u001b[0m \u001b[0mopen\u001b[0m\u001b[0;34m(\u001b[0m\u001b[0mvarfile\u001b[0m\u001b[0;34m,\u001b[0m \u001b[0;34m\"r\"\u001b[0m\u001b[0;34m)\u001b[0m\u001b[0;34m\u001b[0m\u001b[0m\n\u001b[0m\u001b[1;32m    187\u001b[0m             \u001b[0mvarinfo\u001b[0m \u001b[0;34m=\u001b[0m \u001b[0mvfp\u001b[0m\u001b[0;34m.\u001b[0m\u001b[0mreadline\u001b[0m\u001b[0;34m(\u001b[0m\u001b[0;34m)\u001b[0m\u001b[0;34m.\u001b[0m\u001b[0msplit\u001b[0m\u001b[0;34m(\u001b[0m\u001b[0;34m)\u001b[0m\u001b[0;34m\u001b[0m\u001b[0m\n\u001b[1;32m    188\u001b[0m             \u001b[0mself\u001b[0m\u001b[0;34m.\u001b[0m\u001b[0mfiletype\u001b[0m \u001b[0;34m=\u001b[0m \u001b[0mvarinfo\u001b[0m\u001b[0;34m[\u001b[0m\u001b[0;36m4\u001b[0m\u001b[0;34m]\u001b[0m\u001b[0;34m\u001b[0m\u001b[0m\n",
      "\u001b[0;31mIOError\u001b[0m: [Errno 2] No such file or directory: '/Users/Jonathan/Desktop/Projects/PLUTO_process_writeup/SECTION2_NOTEBOOK/dbl.out'"
     ]
    }
   ],
   "source": [
    "#Import the simulation and take a look. #Write a function to do this to make it easier\n",
    "import pyPLUTO as pp\n",
    "import matplotlib.pyplot as plt\n",
    "#need to fix files\n",
    "run_dir = '/Users/Jonathan/Desktop/Projects/PLUTO_process_writeup/SECTION2_NOTEBOOK/' #This must be your working directory\n",
    "l = 6 #get the file number to plot\n",
    "ns = 'rho'\n",
    "\n",
    "curObject = pp.pload(l,w_dir=run_dir)\n",
    "globalVar = getattr(curObject,ns).T\n",
    "\n",
    "#Set up (R,Theta) grid\n",
    "R, Theta = np.meshgrid(curObject.x1, curObject.x2)\n",
    "#Theta = Theta - np.pi/2\n",
    "\n",
    "plt.pcolormesh(R,Theta,globalVar,shading='flat')\n",
    "cb = plt.colorbar()\n",
    "plt.show()"
   ]
  },
  {
   "cell_type": "code",
   "execution_count": null,
   "metadata": {
    "collapsed": true
   },
   "outputs": [],
   "source": [
    "# convert grid to cartesian\n",
    "X1 = R * np.cos(Theta)\n",
    "X2 = R * np.sin(Theta)\n",
    "#X2 = R * np.sin(-Theta)\n",
    "\n",
    "#Theta and X2 changes so that I can compare my results with martins more easily\n",
    "\n",
    "plt.pcolormesh(X1,X2,np.log10(globalVar),shading='flat')\n",
    "plt.xlabel('x [code units]')\n",
    "plt.ylabel('y [code units]')\n",
    "plt.xlim(0,2)\n",
    "plt.ylim(0,2)\n",
    "cb = plt.colorbar()\n",
    "plt.show()"
   ]
  },
  {
   "cell_type": "markdown",
   "metadata": {},
   "source": [
    "It is better practice to write these into functions. These functions can be added to over time in order to customise your plots. These functions are written using the code discussed in Section 0.2.3"
   ]
  },
  {
   "cell_type": "code",
   "execution_count": null,
   "metadata": {
    "collapsed": true
   },
   "outputs": [],
   "source": [
    "def getData(l,ns,w_dir):\n",
    "    \"\"\"\n",
    "    Function takes input of dbl number, the variable (as a string, eg 'rho')\n",
    "    and the directory that your data is in (again, a string with a / on the end)\n",
    "    \n",
    "    The output variables are a grid of cartesian coordinates, and the 2D map of your specified variable (ns)\n",
    "    \"\"\"\n",
    "    \n",
    "    import pyPLUTO as pp\n",
    "    curObject = pp.pload(l,w_dir)\n",
    "    globalVar = getattr(curObject,ns).T\n",
    "    R, Theta = np.meshgrid(curObject.x1, curObject.x2)\n",
    "    #To point jet up, set Theta = Theta - pi/2, and np.sin(-Theta)\n",
    "    X1 = R * np.cos(Theta)\n",
    "    X2 = R * np.sin(Theta)        \n",
    "    return X1,X2,globalVar\n",
    "\n",
    "def plotData(X1,X2,ns,axis_labels):\n",
    "    \"\"\"\n",
    "    Plots an input parameters, ns, over the (X1,X2) grid.\n",
    "    The axis_labels is a list of 3 strings. x axis, y axis, colorbar respectively. \n",
    "    \"\"\"\n",
    "    plt.pcolormesh(X1,X2,np.log10(ns),shading='flat')\n",
    "    plt.xlabel(axis_labels[0])\n",
    "    plt.ylabel(axis_labels[0])\n",
    "    cb = plt.colorbar()\n",
    "    plt.show()"
   ]
  },
  {
   "cell_type": "code",
   "execution_count": 134,
   "metadata": {
    "collapsed": false
   },
   "outputs": [
    {
     "data": {
      "text/plain": [
       "'one'"
      ]
     },
     "execution_count": 134,
     "metadata": {},
     "output_type": "execute_result"
    }
   ],
   "source": [
    "test[0]"
   ]
  },
  {
   "cell_type": "code",
   "execution_count": null,
   "metadata": {
    "collapsed": true
   },
   "outputs": [],
   "source": []
  }
 ],
 "metadata": {
  "kernelspec": {
   "display_name": "Python 2",
   "language": "python",
   "name": "python2"
  },
  "language_info": {
   "codemirror_mode": {
    "name": "ipython",
    "version": 2
   },
   "file_extension": ".py",
   "mimetype": "text/x-python",
   "name": "python",
   "nbconvert_exporter": "python",
   "pygments_lexer": "ipython2",
   "version": "2.7.12"
  }
 },
 "nbformat": 4,
 "nbformat_minor": 2
}
